{
 "cells": [
  {
   "attachments": {},
   "cell_type": "markdown",
   "metadata": {},
   "source": [
    "# Stokes-Vektor"
   ]
  },
  {
   "cell_type": "code",
   "execution_count": 8,
   "metadata": {},
   "outputs": [],
   "source": [
    "import numpy as np\n",
    "import matplotlib.pyplot as plt"
   ]
  },
  {
   "cell_type": "code",
   "execution_count": 9,
   "metadata": {},
   "outputs": [],
   "source": [
    "# Messdaten in V für die einzelnen Komponenten (Detektor A, B und der Quotient)\n",
    "mA, mB, mQ = 0.55, 0.67, 0.10\n",
    "cA, cB, cQ = 0.17, 1.04, 0.72\n",
    "sA, sB, sQ = 0.89, 0.41, -0.36\n",
    "err = 0.01"
   ]
  },
  {
   "cell_type": "code",
   "execution_count": 10,
   "metadata": {},
   "outputs": [
    {
     "name": "stdout",
     "output_type": "stream",
     "text": [
      "Polarisationsgrad: 0.8111719916269299 0.011341614472595372\n",
      "Elliptizität: -10.55009801204651 0.3070670350353363\n",
      "53.063810106580384\n",
      "Alpha: 25.255362408879215 None\n",
      "-1.1452721388803544\n",
      "-0.14578802370905863\n"
     ]
    }
   ],
   "source": [
    "polgrad = np.sqrt(mQ**2+cQ**2+sQ**2)\n",
    "polgrad_err = 2*err*(mQ+cQ+sQ)/np.sqrt(mQ**2+cQ**2+sQ**2)\n",
    "print('Polarisationsgrad:',polgrad,polgrad_err)\n",
    "\n",
    "eta = np.degrees(0.5*np.arcsin(sQ))\n",
    "eta_err = np.degrees(0.5*err/np.sqrt(1-sQ**2))\n",
    "print('Elliptizität:',eta,eta_err)\n",
    "\n",
    "alpha = np.degrees(0.5*np.arcsin(cQ/np.cos(2*np.radians(eta))))\n",
    "alpha2 = np.degrees(0.5*np.arccos(mQ/np.sin(2*np.radians(eta))))\n",
    "print(alpha2)\n",
    "alpha_err = None\n",
    "print('Alpha:',alpha,alpha_err)\n",
    "print(cQ/np.cos(2*eta))\n",
    "print(np.arcsin(cQ/np.cos(2*eta)+1))"
   ]
  }
 ],
 "metadata": {
  "kernelspec": {
   "display_name": "base",
   "language": "python",
   "name": "python3"
  },
  "language_info": {
   "codemirror_mode": {
    "name": "ipython",
    "version": 3
   },
   "file_extension": ".py",
   "mimetype": "text/x-python",
   "name": "python",
   "nbconvert_exporter": "python",
   "pygments_lexer": "ipython3",
   "version": "3.9.13"
  },
  "orig_nbformat": 4
 },
 "nbformat": 4,
 "nbformat_minor": 2
}
