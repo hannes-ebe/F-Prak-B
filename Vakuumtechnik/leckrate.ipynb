{
 "cells": [
  {
   "cell_type": "code",
   "execution_count": 1,
   "metadata": {
    "collapsed": true
   },
   "outputs": [],
   "source": [
    "import numpy as np\n",
    "import matplotlib.pyplot as plt\n",
    "from matplotlib.gridspec import GridSpec\n",
    "from scipy.stats import linregress"
   ]
  },
  {
   "cell_type": "code",
   "execution_count": 2,
   "outputs": [],
   "source": [
    "def mbar_to_torr(mbar):\n",
    "    return mbar*1e-3*1e5/(101325/760)\n",
    "def torr_to_mbar(torr):\n",
    "    return torr*1e3*1e-5*(101325/760)"
   ],
   "metadata": {
    "collapsed": false
   }
  },
  {
   "cell_type": "code",
   "execution_count": 3,
   "outputs": [
    {
     "name": "stdout",
     "output_type": "stream",
     "text": [
      "Das Voloumen beträgt 7.0l mit einerm Fehler von 5.7l\n"
     ]
    }
   ],
   "source": [
    "vol_zyl=lambda r,l:np.pi*r**2*l\n",
    "def zyl(obj):\n",
    "    l,lerr,d,derr=obj\n",
    "    r=d/2\n",
    "    rerr=derr/2\n",
    "    return np.pi*r**2*l,np.pi*2*(rerr*l+lerr*r)\n",
    "rez1=(6.1,0.1,1.06,0.1)\n",
    "ion=(0.85,0.05,0.58,0.05)\n",
    "pen1=(0.75,0.05,0.7,0.05)\n",
    "pen2=(0.6,0.05,0.25,0.05)\n",
    "bar12=(0.92,0.05,0.73,0.05)\n",
    "pir=(0.6,0.06,0.03,0.05)\n",
    "tube=(10,1,0.2,0.05)\n",
    "group=np.array([rez1,ion,pen1,pen2,bar12,bar12,pir,tube])\n",
    "voloume=np.sum([zyl(obj)[0] for obj in group])\n",
    "voloume_err=np.sum([zyl(obj)[1] for obj in group])\n",
    "print(f\"Das Voloumen beträgt {voloume:.1f}l mit einerm Fehler von {voloume_err:.1f}l\")"
   ],
   "metadata": {
    "collapsed": false
   }
  },
  {
   "cell_type": "code",
   "execution_count": 4,
   "outputs": [],
   "source": [
    "file=\"test\"\n",
    "data=np.loadtxt(file)\n",
    "time=[]\n",
    "pressure=[]\n",
    "for line in data:\n",
    "    time.append(line[0])\n",
    "    pressure.append(line[1])\n",
    "time=np.array(time)\n",
    "pressure=np.array(pressure)"
   ],
   "metadata": {
    "collapsed": false
   }
  },
  {
   "cell_type": "code",
   "execution_count": 7,
   "outputs": [
    {
     "name": "stdout",
     "output_type": "stream",
     "text": [
      "Die Leckrate beträgt 0.9247685752579695 +- 0.0018176758727099652\n",
      "LinregressResult(slope=0.09894285714285714, intercept=0.028095238095238173, rvalue=0.999325697849158, pvalue=6.818717889510245e-07, stderr=0.0018176758727099652, intercept_stderr=0.05503286999644793)\n"
     ]
    }
   ],
   "source": [
    "linreg=linregress(time,pressure)\n",
    "reg=lambda x: linreg.slope*x+linreg.intercept\n",
    "reg_error=lambda x: linreg.stderr*x+linreg.intercept_stderr\n",
    "print(f\"Die Leckrate beträgt {torr_to_mbar(linreg.slope)*voloume} +- {linreg.stderr}\")\n",
    "print(linreg)"
   ],
   "metadata": {
    "collapsed": false
   }
  },
  {
   "cell_type": "code",
   "execution_count": null,
   "outputs": [],
   "source": [
    "fig = plt.figure(figsize=(11, 6))\n",
    "gs = GridSpec(8, 5)\n",
    "fig1 = fig.add_subplot(gs[:, :])\n",
    "fig1.set_title(\"Leckratenbestimmung\")\n",
    "fig1.set_ylabel(\"p in torr\")\n",
    "fig1.set_xlabel(\"t in s\")\n",
    "fig1.scatter(time,pressure,c=\"C0\",label=\"Gemessener Druck\")\n",
    "fig1.plot(time,reg(time),c=\"C0\",label=\"Linearer Fit\")\n",
    "fig1.plot(time,reg(time)+reg_error(time),c=\"C0\",ls=\"--\",label=\"Fehlerschlauch zum Fit\")\n",
    "fig1.plot(time,reg(time)-reg_error(time),c=\"C0\",ls=\"--\")\n",
    "plt.tight_layout()\n",
    "plt.legend()\n",
    "plt.show()"
   ],
   "metadata": {
    "collapsed": false
   }
  }
 ],
 "metadata": {
  "kernelspec": {
   "display_name": "Python 3",
   "language": "python",
   "name": "python3"
  },
  "language_info": {
   "codemirror_mode": {
    "name": "ipython",
    "version": 2
   },
   "file_extension": ".py",
   "mimetype": "text/x-python",
   "name": "python",
   "nbconvert_exporter": "python",
   "pygments_lexer": "ipython2",
   "version": "2.7.6"
  }
 },
 "nbformat": 4,
 "nbformat_minor": 0
}
