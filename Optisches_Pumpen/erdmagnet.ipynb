{
 "cells": [
  {
   "attachments": {},
   "cell_type": "markdown",
   "metadata": {},
   "source": [
    "# Erdmagnetfeld"
   ]
  },
  {
   "cell_type": "code",
   "execution_count": 9,
   "metadata": {},
   "outputs": [],
   "source": [
    "import numpy as np\n",
    "import matplotlib.pyplot as plt\n",
    "import scipy.constants as const"
   ]
  },
  {
   "cell_type": "code",
   "execution_count": 10,
   "metadata": {},
   "outputs": [],
   "source": [
    "def helmholtz(N,r,I):\n",
    "    '''Rückgabe der magnetischen Flussdichte'''\n",
    "    return (4/5)**(3/2)*N/r*I\n",
    "\n",
    "R = 1/0.5806117775757463\n",
    "N = 80\n",
    "r = 9e-2"
   ]
  },
  {
   "cell_type": "code",
   "execution_count": 12,
   "metadata": {},
   "outputs": [
    {
     "name": "stdout",
     "output_type": "stream",
     "text": [
      "-9.527698489590332\n",
      "-1.1972859038723956e-05\n"
     ]
    }
   ],
   "source": [
    "U_offset = -25.8e-3\n",
    "I = U_offset/R   # Faktor 1/2, weil Strom, der in die Formel eingeht, der Strom durch eine (nicht die zwei parallelen Spulen) ist.\n",
    "H = helmholtz(N,r,I)\n",
    "B = H*const.mu_0\n",
    "print(H)\n",
    "print(B)"
   ]
  }
 ],
 "metadata": {
  "kernelspec": {
   "display_name": "base",
   "language": "python",
   "name": "python3"
  },
  "language_info": {
   "codemirror_mode": {
    "name": "ipython",
    "version": 3
   },
   "file_extension": ".py",
   "mimetype": "text/x-python",
   "name": "python",
   "nbconvert_exporter": "python",
   "pygments_lexer": "ipython3",
   "version": "3.9.13"
  },
  "orig_nbformat": 4
 },
 "nbformat": 4,
 "nbformat_minor": 2
}
