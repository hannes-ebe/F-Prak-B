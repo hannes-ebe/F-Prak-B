{
 "cells": [
  {
   "cell_type": "code",
   "execution_count": 1,
   "metadata": {
    "collapsed": false
   },
   "outputs": [],
   "source": [
    "import numpy as np\n",
    "import matplotlib.pyplot as plt\n",
    "from matplotlib.gridspec import GridSpec\n",
    "import matplotlib\n",
    "from scipy.signal import find_peaks\n",
    "matplotlib.use('Qt5Agg')"
   ]
  },
  {
   "cell_type": "code",
   "execution_count": 2,
   "metadata": {
    "collapsed": false
   },
   "outputs": [],
   "source": [
    "class spek:\n",
    "    def __init__(self,path):\n",
    "        data=np.loadtxt(path)\n",
    "        self.steps=[]\n",
    "        self.intensity=[]\n",
    "        self.ru_lines=[495.31,496.39,498.34,501.61,502.30,506.40,507.2,507.66,508.94,513.39,515.15,517.11,519.67,523.54,526.15,532.38,536.41,539.21,543.31,558.03,564.93,565.53,572.57,589.16,598.75,607.24,616.13,620.8,630.01]\n",
    "        for line in data:\n",
    "            self.steps.append(line[0])\n",
    "            self.intensity.append(line[1])\n",
    "        #print(self.peaks_index)\n",
    "        self.steps,self.intensity=np.array(self.steps),np.array(self.intensity)\n",
    "        self.peaks_index=self.peaks()[0]\n",
    "        self.peaks_index=np.delete(self.peaks_index,[0,2])\n",
    "        print(len(self.peaks_index),len(self.ru_lines))\n",
    "\n",
    "    def peaks(self):\n",
    "        return find_peaks(self.intensity,height=0.01)\n",
    "\n",
    "    def plot(self):\n",
    "        fig = plt.figure(figsize=(11, 6))\n",
    "        gs = GridSpec(8, 5)\n",
    "        fig1 = fig.add_subplot(gs[:, :])\n",
    "        fig1.set_title(\"Sektrum\")\n",
    "        fig1.set_ylabel(\"step\")\n",
    "        fig1.set_xlabel(\"Intensity\")\n",
    "        fig1.set_xlim(10000,40000)\n",
    "        # fig1.plot(self.steps,self.intensity,label=f\"plot\")\n",
    "        # fig1.plot(self.steps[self.peaks_index],self.intensity[np.array(self.peaks_index)],\"o\",label=\"peaks\")\n",
    "        fig1.scatter(self.steps[self.peaks_index],self.ru_lines)\n",
    "        plt.tight_layout()\n",
    "        plt.legend()\n",
    "        plt.show()"
   ]
  },
  {
   "cell_type": "code",
   "execution_count": 3,
   "metadata": {
    "collapsed": false,
    "pycharm": {
     "is_executing": true
    }
   },
   "outputs": [],
   "source": [
    "file=\"ru_spektrum.dat\"#\"1_-4_ohneLinse.dat\"\n",
    "spek1=spek(f\"data/{file}\")\n",
    "spek1.plot()\n"
   ]
  }
 ],
 "metadata": {
  "kernelspec": {
   "display_name": "Python 3",
   "language": "python",
   "name": "python3"
  },
  "language_info": {
   "codemirror_mode": {
    "name": "ipython",
    "version": 3
   },
   "file_extension": ".py",
   "mimetype": "text/x-python",
   "name": "python",
   "nbconvert_exporter": "python",
   "pygments_lexer": "ipython3",
   "version": "3.9.13"
  }
 },
 "nbformat": 4,
 "nbformat_minor": 0
}
