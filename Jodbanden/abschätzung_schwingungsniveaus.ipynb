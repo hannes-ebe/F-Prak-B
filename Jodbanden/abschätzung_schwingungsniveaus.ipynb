{
 "cells": [
  {
   "attachments": {},
   "cell_type": "markdown",
   "metadata": {},
   "source": [
    "# Abschätzung SGL für Schwingungsniveaus"
   ]
  },
  {
   "cell_type": "code",
   "execution_count": 1,
   "metadata": {},
   "outputs": [],
   "source": [
    "import numpy as np\n",
    "from scipy.constants  import h,c\n",
    "\n",
    "v_0 = 214.6*1e2 # Einheit m^{-1}\n",
    "v_0x = 0.613*1e2\n",
    "\n",
    "def E_upsilon(upsilon):\n",
    "    return h*c*v_0*(upsilon+0.5)-h*c*v_0x*(upsilon+0.5)**2"
   ]
  },
  {
   "cell_type": "code",
   "execution_count": 2,
   "metadata": {},
   "outputs": [
    {
     "name": "stdout",
     "output_type": "stream",
     "text": [
      "Energie für upsilon=0:  0.01328554880536794\n",
      "Energie für upsilon=1:  0.039742633978708045\n",
      "Energie für upsilon=2:  0.06604770256885378\n",
      "Energie für upsilon=3:  0.09220075457580516\n"
     ]
    }
   ],
   "source": [
    "E0 = E_upsilon(0)*6.242*1e18\n",
    "E1 = E_upsilon(1)*6.242*1e18\n",
    "E2 = E_upsilon(2)*6.242*1e18\n",
    "E3 = E_upsilon(3)*6.242*1e18\n",
    "\n",
    "print('Energie für upsilon=0: ', E0)\n",
    "print('Energie für upsilon=1: ', E1)\n",
    "print('Energie für upsilon=2: ', E2)\n",
    "print('Energie für upsilon=3: ', E3)"
   ]
  }
 ],
 "metadata": {
  "kernelspec": {
   "display_name": "base",
   "language": "python",
   "name": "python3"
  },
  "language_info": {
   "codemirror_mode": {
    "name": "ipython",
    "version": 3
   },
   "file_extension": ".py",
   "mimetype": "text/x-python",
   "name": "python",
   "nbconvert_exporter": "python",
   "pygments_lexer": "ipython3",
   "version": "3.9.13"
  },
  "orig_nbformat": 4
 },
 "nbformat": 4,
 "nbformat_minor": 2
}
