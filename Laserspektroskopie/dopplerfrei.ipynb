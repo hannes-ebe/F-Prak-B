{
 "cells": [
  {
   "cell_type": "code",
   "execution_count": 18,
   "metadata": {},
   "outputs": [
    {
     "name": "stdout",
     "output_type": "stream",
     "text": [
      "Warning: Cannot change to a different GUI toolkit: None. Using qt instead.\n"
     ]
    }
   ],
   "source": [
    "import numpy as np\n",
    "import matplotlib.pyplot as plt\n",
    "from matplotlib.gridspec import GridSpec\n",
    "import matplotlib\n",
    "from scipy.signal import find_peaks\n",
    "from scipy.stats import linregress\n",
    "import json\n",
    "matplotlib.rc('axes.formatter', useoffset=False)\n",
    "%matplotlib agg"
   ]
  },
  {
   "cell_type": "code",
   "execution_count": 19,
   "metadata": {},
   "outputs": [
    {
     "name": "stdout",
     "output_type": "stream",
     "text": [
      "{'0': [-0.0006831583189536933, 780.247753204327], '3': [-0.0006593473937488854, 780.247552537188], '4': [-0.0006557151961520067, 780.2473265396443], '5': [-0.0006487626584672954, 780.2472880580533], '6': [-0.0006303134830736428, 780.2472357235326]}\n"
     ]
    }
   ],
   "source": [
    "with open('kali.txt') as json_file:\n",
    "    kali = json.load(json_file)\n",
    "print(kali)\n",
    "def lin_func(x,slope,intercept):\n",
    "    return slope*x+intercept"
   ]
  },
  {
   "cell_type": "code",
   "execution_count": 94,
   "metadata": {},
   "outputs": [],
   "source": [
    "class Spek():\n",
    "    def __init__(self,freq,cut=False):\n",
    "        self.freq=freq\n",
    "        path=f\"data/dopplerfrei/{freq}freq.dat\"\n",
    "        path2=f\"data/dopplerfrei/{freq}freq_blende.dat\"\n",
    "        self.time, self.U_piezo, self.U_fp, self.U_spek, self.intensity = np.genfromtxt(path).T\n",
    "        self.time2, self.U_piezo2, self.U_fp2, self.U_spek2, self.intensity2 = np.genfromtxt(path2).T\n",
    "        # Piezo-Spannung muss noch mit vier multipliziert werden.\n",
    "        self.U_piezo = 4 * self.U_piezo\n",
    "        self.U_piezo2 = 4 * self.U_piezo2\n",
    "\n",
    "        # Falls cut == True, werden die Daten auf eine steigende Flanke der Piezo-Spannung zugeschnitten.\n",
    "        if cut:\n",
    "            # Finden des Minimums und Maximums\n",
    "            # Bei mehreren Minima und Maxima ist die hardgecodete Auswahl über den letzten Index echt unschön...\n",
    "            min = find_peaks(-1.0*self.U_piezo,width=2000)[0][0]\n",
    "            max = find_peaks(self.U_piezo,width=2000)[0][-1]\n",
    "\n",
    "            self.time = self.time[min:max+1]\n",
    "            self.U_piezo = self.U_piezo[min:max+1]\n",
    "            self.U_fp = self.U_fp[min:max+1]\n",
    "            self.U_spek = self.U_spek[min:max+1]\n",
    "            self.intensity = self.intensity[min:max+1]\n",
    "\n",
    "            min2 = find_peaks(-1.0*self.U_piezo2,width=2000)[0][0]\n",
    "            max2 = find_peaks(self.U_piezo2,width=2000)[0][-1]\n",
    "\n",
    "            self.time2 = self.time2[min2:max2+1]\n",
    "            self.U_piezo2 = self.U_piezo2[min2:max2+1]\n",
    "            self.U_fp2 = self.U_fp2[min2:max2+1]\n",
    "            self.U_spek2 = self.U_spek2[min2:max2+1]\n",
    "            self.intensity2 = self.intensity2[min2:max2+1]\n",
    "        self.time=self.time-self.time[0]\n",
    "        self.time2=self.time2-self.time2[0]\n",
    "        self.lamb=lin_func(self.U_piezo,kali[str(freq)][0],kali[str(freq)][1])\n",
    "        self.lamb2=lin_func(self.U_piezo2,kali[str(freq)][0],kali[str(freq)][1])\n",
    "\n",
    "    \n",
    "    def plot(self,title=None):\n",
    "        fig = plt.figure(figsize=(7, 5))\n",
    "        gs = GridSpec(8, 5)\n",
    "        fig1 = fig.add_subplot(gs[:, :])\n",
    "        # fig1.set_title(f\"Laser\")\n",
    "        fig1.set_ylabel(r'$U_\\mathrm{Spektrum}$ [V]')\n",
    "        fig1.set_xlabel(\"t in s\")\n",
    "        # fig1.set_xlim(-5,185)\n",
    "        # fig1.set_ylim(0,9.5)\n",
    "        plt.tight_layout()\n",
    "        plt.plot(self.time,self.U_spek,c=\"C0\")\n",
    "        plt.plot(self.time2,self.U_spek2,c=\"C1\")\n",
    "        plt.show()\n",
    "    def plot_diff(self,title=None):\n",
    "        fig = plt.figure(figsize=(7, 5))\n",
    "        gs = GridSpec(8, 5)\n",
    "        fig1 = fig.add_subplot(gs[:, :])\n",
    "        # fig1.set_title(f\"Laser\")\n",
    "        fig1.set_ylabel(r'$U_\\mathrm{Spektrum}$ [V]')\n",
    "        fig1.set_xlabel(\"$\\lambda$ in nm\")\n",
    "        # fig1.set_xlim(780.246,780.248)\n",
    "        # fig1.set_ylim(0,9.5)\n",
    "        plt.tight_layout()\n",
    "        short=min([len(self.U_spek),len(self.U_spek2),len(self.time)])\n",
    "        diff=self.U_spek[:short]-self.U_spek2[:short]\n",
    "        self.peaks_i=find_peaks(diff,prominence=0.1)[0]\n",
    "        if self.freq==6:\n",
    "            self.peaks_i=np.delete(self.peaks_i,1)\n",
    "            self.peaks_i=np.append(self.peaks_i,np.argmin(np.abs(self.time-0.07260)))\n",
    "        self.peaks_i=np.sort(self.peaks_i)[::-1]\n",
    "        self.peaks=self.lamb[self.peaks_i]\n",
    "        print(self.peaks)\n",
    "        plt.scatter(self.lamb[:short][self.peaks_i],diff[self.peaks_i],c=\"C1\")\n",
    "        plt.plot(self.lamb[:short],diff,c=\"C0\")\n",
    "        plt.show()"
   ]
  },
  {
   "cell_type": "code",
   "execution_count": 95,
   "metadata": {},
   "outputs": [
    {
     "name": "stdout",
     "output_type": "stream",
     "text": [
      "[780.23884463 780.24421329 780.24631314 780.24657654]\n"
     ]
    }
   ],
   "source": [
    "spek3=Spek(6,cut=True)\n",
    "# spek3.plot()\n",
    "spek3.plot_diff()"
   ]
  },
  {
   "cell_type": "code",
   "execution_count": 103,
   "metadata": {},
   "outputs": [
    {
     "name": "stdout",
     "output_type": "stream",
     "text": [
      "[780.238 780.244 780.246 780.247]\n",
      "-0.0012680831720217611 -0.14089813022619213\n"
     ]
    }
   ],
   "source": [
    "peak_lit=780+np.array([.238,.244,.246,.247])\n",
    "print(peak_lit)\n",
    "abs_err=(peak_lit-spek3.peaks)\n",
    "rel_err=(peak_lit-spek3.peaks)/peak_lit\n",
    "abs_dist=(spek3.peaks[3]-spek3.peaks[0])-(peak_lit[3]-peak_lit[0])\n",
    "rel_dist=((spek3.peaks[3]-spek3.peaks[0])-(peak_lit[3]-peak_lit[0]))/(peak_lit[3]-peak_lit[0])\n",
    "print(abs_dist,rel_dist)"
   ]
  }
 ],
 "metadata": {
  "kernelspec": {
   "display_name": "Python 3",
   "language": "python",
   "name": "python3"
  },
  "language_info": {
   "codemirror_mode": {
    "name": "ipython",
    "version": 3
   },
   "file_extension": ".py",
   "mimetype": "text/x-python",
   "name": "python",
   "nbconvert_exporter": "python",
   "pygments_lexer": "ipython3",
   "version": "3.10.6"
  },
  "orig_nbformat": 4
 },
 "nbformat": 4,
 "nbformat_minor": 2
}
