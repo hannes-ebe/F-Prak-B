{
 "cells": [
  {
   "attachments": {},
   "cell_type": "markdown",
   "metadata": {},
   "source": [
    "# Einstellung Laser  \n",
    "Die Frequenzen der Hyperfeinstruktur-Übergänge der beiden Rubidium-Isotope sollen als Frequenz, Energie und Wellenlänge angegeben werden."
   ]
  },
  {
   "cell_type": "code",
   "execution_count": 1,
   "metadata": {},
   "outputs": [],
   "source": [
    "import numpy as np\n",
    "import scipy.constants as const"
   ]
  },
  {
   "cell_type": "code",
   "execution_count": 2,
   "metadata": {},
   "outputs": [],
   "source": [
    "def freq_to_E(freq):\n",
    "    '''Rückgabe in eV'''\n",
    "    return const.h*freq*6.242e18\n",
    "\n",
    "def freq_to_wavelength(freq):\n",
    "    return const.c/freq"
   ]
  },
  {
   "attachments": {},
   "cell_type": "markdown",
   "metadata": {},
   "source": [
    "## Rubidium 85  \n",
    "Reihenfolge der Übergänge nach Quantenzahl F:  \n",
    "21, 22, 23, 32, 33, 34"
   ]
  },
  {
   "cell_type": "code",
   "execution_count": 7,
   "metadata": {},
   "outputs": [
    {
     "name": "stdout",
     "output_type": "stream",
     "text": [
      "Frequenz 85: [3.84232064e+14 3.84232093e+14 3.84232157e+14 3.84229058e+14\n",
      " 3.84229121e+14 3.84229242e+14]\n",
      "Wellenlänge 85: [7.80238002e-07 7.80237943e-07 7.80237814e-07 7.80244107e-07\n",
      " 7.80243978e-07 7.80243733e-07]\n",
      "Wellenlänge in nm: [780.238 780.238 780.238 780.244 780.244 780.244]\n",
      "Energie 85: [1.58918112 1.58918124 1.58918151 1.58916869 1.58916895 1.58916945]\n"
     ]
    }
   ],
   "source": [
    "# Hauptlinie, zu der die Hyperfeinstrukturkomponenten addiert werden.\n",
    "main_line = 384.230406373e12\n",
    "freq85 = []\n",
    "\n",
    "freq85.append(main_line+1.7708439228e9-113.208e6)\n",
    "freq85.append(main_line+1.7708439228e9-83.835e6)\n",
    "freq85.append(main_line+1.7708439228e9-20.435e6)\n",
    "\n",
    "freq85.append(main_line-1.2648885163e9-83.835e6)\n",
    "freq85.append(main_line-1.2648885163e9-20.435e6)\n",
    "freq85.append(main_line-1.2648885163e9+100.205e6)\n",
    "\n",
    "freq85 = np.array(freq85)\n",
    "wavelength85 = freq_to_wavelength(freq85)\n",
    "E85 = freq_to_E(freq85)\n",
    "\n",
    "print('Frequenz 85:',freq85)\n",
    "print('Wellenlänge 85:',wavelength85)\n",
    "print('Wellenlänge in nm:',np.round(wavelength85*1e9,3))\n",
    "print('Energie 85:',E85)"
   ]
  },
  {
   "attachments": {},
   "cell_type": "markdown",
   "metadata": {},
   "source": [
    "## Rubidium 87  \n",
    "Reihenfolge der Übergänge nach Quantenzahl F:  \n",
    "10, 11, 12, 21, 22, 23"
   ]
  },
  {
   "cell_type": "code",
   "execution_count": 8,
   "metadata": {},
   "outputs": [
    {
     "name": "stdout",
     "output_type": "stream",
     "text": [
      "Frequenz 87: [3.84234454e+14 3.84234456e+14 3.84234683e+14 3.84227622e+14\n",
      " 3.84227849e+14 3.84228115e+14]\n",
      "Wellenlänge 87: [7.80233149e-07 7.80233144e-07 7.80232684e-07 7.80247023e-07\n",
      " 7.80246562e-07 7.80246021e-07]\n",
      "Wellenlänge in nm: [780.233 780.233 780.233 780.247 780.247 780.246]\n",
      "Energie 87: [1.58919101 1.58919102 1.58919196 1.58916275 1.58916369 1.58916479]\n"
     ]
    }
   ],
   "source": [
    "# Hauptlinie, zu der die Hyperfeinstrukturkomponenten addiert werden.\n",
    "main_line = 384.230484468e12\n",
    "freq87 = []\n",
    "\n",
    "freq87.append(main_line+4.271676631815181e9-302.0738e6)\n",
    "freq87.append(main_line+4.271676631815181e9-299.8518e6)\n",
    "freq87.append(main_line+4.271676631815181e9-72.9112e6)\n",
    "\n",
    "freq87.append(main_line-2.563005979089109e9-299.8518e6)\n",
    "freq87.append(main_line-2.563005979089109e9-72.9112e6)\n",
    "freq87.append(main_line-2.563005979089109e9+193.7407e6)\n",
    "\n",
    "freq87 = np.array(freq87)\n",
    "wavelength87 = freq_to_wavelength(freq87)\n",
    "E87 = freq_to_E(freq87)\n",
    "\n",
    "print('Frequenz 87:',freq87)\n",
    "print('Wellenlänge 87:',wavelength87)\n",
    "print('Wellenlänge in nm:',np.round(wavelength87*1e9,3))\n",
    "print('Energie 87:',E87)"
   ]
  }
 ],
 "metadata": {
  "kernelspec": {
   "display_name": "base",
   "language": "python",
   "name": "python3"
  },
  "language_info": {
   "codemirror_mode": {
    "name": "ipython",
    "version": 3
   },
   "file_extension": ".py",
   "mimetype": "text/x-python",
   "name": "python",
   "nbconvert_exporter": "python",
   "pygments_lexer": "ipython3",
   "version": "3.10.6"
  },
  "orig_nbformat": 4
 },
 "nbformat": 4,
 "nbformat_minor": 2
}
